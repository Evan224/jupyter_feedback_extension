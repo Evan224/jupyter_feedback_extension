{
 "cells": [
  {
   "cell_type": "code",
   "execution_count": 1,
   "id": "22939c44-a99d-41bf-a2b5-e6aa08f6ba20",
   "metadata": {
    "editable": true,
    "slideshow": {
     "slide_type": ""
    },
    "tags": []
   },
   "outputs": [
    {
     "ename": "SyntaxError",
     "evalue": "invalid decimal literal (1092701871.py, line 1)",
     "output_type": "error",
     "traceback": [
      "\u001b[0;36m  Cell \u001b[0;32mIn[1], line 1\u001b[0;36m\u001b[0m\n\u001b[0;31m    213asdas\u001b[0m\n\u001b[0m      ^\u001b[0m\n\u001b[0;31mSyntaxError\u001b[0m\u001b[0;31m:\u001b[0m invalid decimal literal\n"
     ]
    }
   ],
   "source": [
    "213asdas\n",
    "\n",
    "asdioasgdhioashgd"
   ]
  },
  {
   "cell_type": "markdown",
   "id": "e489efe4-78db-4774-acb0-07724991e323",
   "metadata": {
    "jp-MarkdownHeadingCollapsed": true
   },
   "source": [
    "# Welcome to My Jupyter Notebook\n",
    "\n",
    "This notebook demonstrates basic usage of **Markdown** and **Python** code in JupyterLab.\n",
    "\n",
    "## Objective\n",
    "- Create a Markdown cell with text formatting.\n",
    "- Implement a Python function.\n",
    "- Display a plot using Matplotlib.\n"
   ]
  },
  {
   "cell_type": "code",
   "execution_count": null,
   "id": "953f1ab5-4820-4325-9282-9d772dbaf345",
   "metadata": {},
   "outputs": [],
   "source": []
  },
  {
   "cell_type": "code",
   "execution_count": null,
   "id": "dac8cae5-f725-4305-bb06-d0d55228a283",
   "metadata": {},
   "outputs": [],
   "source": []
  }
 ],
 "metadata": {
  "kernelspec": {
   "display_name": "Python 3 (ipykernel)",
   "language": "python",
   "name": "python3"
  },
  "language_info": {
   "codemirror_mode": {
    "name": "ipython",
    "version": 3
   },
   "file_extension": ".py",
   "mimetype": "text/x-python",
   "name": "python",
   "nbconvert_exporter": "python",
   "pygments_lexer": "ipython3",
   "version": "3.11.5"
  }
 },
 "nbformat": 4,
 "nbformat_minor": 5
}
