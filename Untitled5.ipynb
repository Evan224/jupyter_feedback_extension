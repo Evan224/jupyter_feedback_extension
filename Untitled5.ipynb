{
 "cells": [
  {
   "cell_type": "code",
   "execution_count": 1,
   "id": "22939c44-a99d-41bf-a2b5-e6aa08f6ba20",
   "metadata": {
    "editable": true,
    "slideshow": {
     "slide_type": ""
    },
    "tags": []
   },
   "outputs": [
    {
     "name": "stdout",
     "output_type": "stream",
     "text": [
      "1\n"
     ]
    }
   ],
   "source": [
    "print(1)sadsasad?\n",
    "asd\n",
    "asdasd\n",
    "sadasdas\n",
    "asdasd"
   ]
  },
  {
   "cell_type": "code",
   "execution_count": null,
   "id": "5495d76f-dd0c-445d-9938-0e1a5f1a0a51",
   "metadata": {},
   "outputs": [],
   "source": []
  },
  {
   "cell_type": "code",
   "execution_count": null,
   "id": "d9d34647-a117-4118-b566-ea4969001c2c",
   "metadata": {},
   "outputs": [],
   "source": []
  },
  {
   "cell_type": "code",
   "execution_count": null,
   "id": "83573b06-a9f9-47d5-973f-2994e7763802",
   "metadata": {},
   "outputs": [],
   "source": []
  },
  {
   "cell_type": "code",
   "execution_count": null,
   "id": "62e12bf6-4dbd-4e9f-9614-1a338d64bb0a",
   "metadata": {},
   "outputs": [],
   "source": []
  },
  {
   "cell_type": "markdown",
   "id": "e489efe4-78db-4774-acb0-07724991e323",
   "metadata": {
    "jp-MarkdownHeadingCollapsed": true
   },
   "source": [
    "# Welcome to My Jupyter Notebook\n",
    "\n",
    "This notebook demonstrates basic usage of **Markdown** and **Python** code in JupyterLab.\n",
    "\n",
    "## Objective\n",
    "- Create a Markdown cell with text formatting.\n",
    "- Implement a Python function.\n",
    "- Display a plot using Matplotlib.\n"
   ]
  },
  {
   "cell_type": "code",
   "execution_count": 7,
   "id": "953f1ab5-4820-4325-9282-9d772dbaf345",
   "metadata": {},
   "outputs": [
    {
     "name": "stdout",
     "output_type": "stream",
     "text": [
      "okokok\n"
     ]
    }
   ],
   "source": [
    "print('okokok')"
   ]
  },
  {
   "cell_type": "code",
   "execution_count": 6,
   "id": "dac8cae5-f725-4305-bb06-d0d55228a283",
   "metadata": {},
   "outputs": [
    {
     "name": "stdout",
     "output_type": "stream",
     "text": [
      "?\n"
     ]
    }
   ],
   "source": [
    "print('?')"
   ]
  },
  {
   "cell_type": "code",
   "execution_count": null,
   "id": "443793f8-4889-404e-a6cb-b3bdfd994390",
   "metadata": {},
   "outputs": [],
   "source": []
  },
  {
   "cell_type": "code",
   "execution_count": null,
   "id": "0edba0fb-c7ed-45cf-9fce-3a76a73f49cf",
   "metadata": {},
   "outputs": [],
   "source": []
  },
  {
   "cell_type": "code",
   "execution_count": null,
   "id": "01675c09-67f1-4db9-9dbb-53806269c4ea",
   "metadata": {},
   "outputs": [],
   "source": []
  }
 ],
 "metadata": {
  "kernelspec": {
   "display_name": "Python 3 (ipykernel)",
   "language": "python",
   "name": "python3"
  },
  "language_info": {
   "codemirror_mode": {
    "name": "ipython",
    "version": 3
   },
   "file_extension": ".py",
   "mimetype": "text/x-python",
   "name": "python",
   "nbconvert_exporter": "python",
   "pygments_lexer": "ipython3",
   "version": "3.11.5"
  }
 },
 "nbformat": 4,
 "nbformat_minor": 5
}
